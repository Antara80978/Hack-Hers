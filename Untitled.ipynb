{
 "cells": [
  {
   "cell_type": "code",
   "execution_count": 33,
   "id": "d750d41e-254b-4121-85a3-4f0e0ddcf688",
   "metadata": {},
   "outputs": [],
   "source": [
    "from keras.utils import to_categorical\n",
    "from keras_preprocessing.image import load_img\n",
    "from keras.models import Sequential\n",
    "from keras.layers import Dense, Conv2D, Dropout,Flatten , MaxPooling2D\n",
    "import os\n",
    "import pandas as pd\n",
    "import numpy as np\n"
   ]
  },
  {
   "cell_type": "code",
   "execution_count": 34,
   "id": "cb5c7922-edca-4808-a345-1be0f59cbdab",
   "metadata": {},
   "outputs": [
    {
     "name": "stdout",
     "output_type": "stream",
     "text": [
      "2.13.0\n"
     ]
    }
   ],
   "source": [
    "import tensorflow as tf;\n",
    "print(tf.__version__)\n",
    "\n"
   ]
  },
  {
   "cell_type": "code",
   "execution_count": 35,
   "id": "ccb1a211-5cc3-4961-8b06-e66cb09b9eff",
   "metadata": {},
   "outputs": [
    {
     "name": "stdout",
     "output_type": "stream",
     "text": [
      "2.0.3\n"
     ]
    }
   ],
   "source": [
    "import pandas as pd;\n",
    "print(pd.__version__)\n",
    "\n"
   ]
  },
  {
   "cell_type": "code",
   "execution_count": 36,
   "id": "33cd30c4-ab5d-45ce-8301-a4b6f9b67f7a",
   "metadata": {},
   "outputs": [],
   "source": [
    "TRAIN_DIR ='images/train'\n",
    "TEST_DIR ='images/test'"
   ]
  },
  {
   "cell_type": "code",
   "execution_count": 37,
   "id": "eca5f774-2025-4bb4-b3a2-1b6cf631ff05",
   "metadata": {},
   "outputs": [],
   "source": [
    "def createdataframe(dir):\n",
    "    image_paths = []\n",
    "    labels = []\n",
    "    for label in os.listdir(dir):\n",
    "      for imagename in os.listdir(os.path.join(dir,label)):\n",
    "        image_paths.append(os.path.join(dir,label,imagename))\n",
    "        labels.append(label)\n",
    "        print(label,\"completed\")\n",
    "        return image_paths,labels\n",
    "    "
   ]
  },
  {
   "cell_type": "code",
   "execution_count": 39,
   "id": "1b3c3de6-06e8-4ca9-8f34-357a0a091734",
   "metadata": {},
   "outputs": [
    {
     "name": "stdout",
     "output_type": "stream",
     "text": [
      "angry completed\n"
     ]
    }
   ],
   "source": [
    "train =pd.DataFrame()\n",
    "train['image'],train['label'] = createdataframe(TRAIN_DIR)"
   ]
  },
  {
   "cell_type": "code",
   "execution_count": 44,
   "id": "55ceb760-4311-434c-a10e-e95ff87491b2",
   "metadata": {},
   "outputs": [
    {
     "name": "stdout",
     "output_type": "stream",
     "text": [
      "angry completed\n",
      "disgust completed\n",
      "fear completed\n",
      "happy completed\n",
      "neutral completed\n",
      "sad completed\n",
      "surprise completed\n"
     ]
    }
   ],
   "source": [
    "def createdataframe(dir):\n",
    "    image_paths = []\n",
    "    labels = []\n",
    "\n",
    "    for label in os.listdir(dir):   \n",
    "        label_path = os.path.join(dir, label)\n",
    "        if not os.path.isdir(label_path): \n",
    "            continue\n",
    "\n",
    "        for imagename in os.listdir(label_path):   \n",
    "            image_path = os.path.join(label_path, imagename)\n",
    "\n",
    "           \n",
    "            if os.path.isfile(image_path):\n",
    "                image_paths.append(image_path)\n",
    "                labels.append(label)\n",
    "\n",
    "        print(label, \"completed\")  \n",
    "\n",
    "    return image_paths, labels  \n",
    "\n",
    "\n",
    "TRAIN_DIR = \"images/train\"   \n",
    "image_paths, labels = createdataframe(TRAIN_DIR)\n",
    "\n",
    " \n",
    "train = pd.DataFrame({\"image\": image_paths, \"label\": labels})\n",
    " "
   ]
  },
  {
   "cell_type": "code",
   "execution_count": 43,
   "id": "566e1347-a2ea-40fe-97be-e990a8ac7329",
   "metadata": {},
   "outputs": [
    {
     "name": "stdout",
     "output_type": "stream",
     "text": [
      "<class 'pandas.core.frame.DataFrame'>\n",
      "RangeIndex: 28821 entries, 0 to 28820\n",
      "Data columns (total 2 columns):\n",
      " #   Column  Non-Null Count  Dtype \n",
      "---  ------  --------------  ----- \n",
      " 0   image   28821 non-null  object\n",
      " 1   label   28821 non-null  object\n",
      "dtypes: object(2)\n",
      "memory usage: 450.5+ KB\n",
      "None\n",
      "                          image  label\n",
      "0      images/train\\angry\\0.jpg  angry\n",
      "1      images/train\\angry\\1.jpg  angry\n",
      "2     images/train\\angry\\10.jpg  angry\n",
      "3  images/train\\angry\\10002.jpg  angry\n",
      "4  images/train\\angry\\10016.jpg  angry\n"
     ]
    }
   ],
   "source": [
    "\n",
    "print(train.info())  \n",
    "print(train.head())  "
   ]
  },
  {
   "cell_type": "code",
   "execution_count": 46,
   "id": "b3467975-122f-4c4f-afba-a43e1fed76c4",
   "metadata": {},
   "outputs": [
    {
     "name": "stdout",
     "output_type": "stream",
     "text": [
      "angry completed\n",
      "disgust completed\n",
      "fear completed\n",
      "happy completed\n",
      "neutral completed\n",
      "sad completed\n",
      "surprise completed\n"
     ]
    }
   ],
   "source": [
    "TEST_DIR = \"images/test\"   \n",
    "image_paths, labels = createdataframe(TEST_DIR)\n",
    "\n",
    " \n",
    " "
   ]
  },
  {
   "cell_type": "code",
   "execution_count": 47,
   "id": "3a9b2689-cf9a-4ad9-9816-cbde170cea4b",
   "metadata": {},
   "outputs": [
    {
     "name": "stdout",
     "output_type": "stream",
     "text": [
      "<class 'pandas.core.frame.DataFrame'>\n",
      "RangeIndex: 7066 entries, 0 to 7065\n",
      "Data columns (total 2 columns):\n",
      " #   Column  Non-Null Count  Dtype \n",
      "---  ------  --------------  ----- \n",
      " 0   image   7066 non-null   object\n",
      " 1   label   7066 non-null   object\n",
      "dtypes: object(2)\n",
      "memory usage: 110.5+ KB\n",
      "None\n",
      "                         image  label\n",
      "0  images/test\\angry\\10052.jpg  angry\n",
      "1  images/test\\angry\\10065.jpg  angry\n",
      "2  images/test\\angry\\10079.jpg  angry\n",
      "3  images/test\\angry\\10095.jpg  angry\n",
      "4  images/test\\angry\\10121.jpg  angry\n"
     ]
    }
   ],
   "source": [
    "\n",
    "print(test.info())  \n",
    "print(test.head())  \n"
   ]
  },
  {
   "cell_type": "code",
   "execution_count": null,
   "id": "b376e10c-e0db-4614-a749-8ac96ea1ee2c",
   "metadata": {},
   "outputs": [],
   "source": [
    "def extract_features"
   ]
  }
 ],
 "metadata": {
  "kernelspec": {
   "display_name": "Python 3 (ipykernel)",
   "language": "python",
   "name": "python3"
  },
  "language_info": {
   "codemirror_mode": {
    "name": "ipython",
    "version": 3
   },
   "file_extension": ".py",
   "mimetype": "text/x-python",
   "name": "python",
   "nbconvert_exporter": "python",
   "pygments_lexer": "ipython3",
   "version": "3.8.20"
  }
 },
 "nbformat": 4,
 "nbformat_minor": 5
}
